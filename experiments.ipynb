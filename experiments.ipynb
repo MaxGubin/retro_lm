{
 "cells": [
  {
   "cell_type": "markdown",
   "metadata": {},
   "source": [
    "LM with retrieval\n",
    "\n",
    "Idea: verify that retrieval can improve prediction quality for small models"
   ]
  },
  {
   "cell_type": "code",
   "execution_count": 2,
   "metadata": {},
   "outputs": [],
   "source": [
    "import jax\n",
    "from typing import Any, Callable, Sequence, Optional\n",
    "from jax import lax, random, numpy as jnp\n",
    "import flax\n",
    "from flax.core import freeze, unfreeze\n",
    "from flax import linen as nn"
   ]
  },
  {
   "cell_type": "code",
   "execution_count": 3,
   "metadata": {},
   "outputs": [],
   "source": [
    "from transformers import BertTokenizer, FlaxBertForPreTraining, FlaxBertModel"
   ]
  },
  {
   "cell_type": "markdown",
   "metadata": {},
   "source": [
    "Retrieval model, dual encoder to retireve documents."
   ]
  },
  {
   "cell_type": "code",
   "execution_count": 4,
   "metadata": {},
   "outputs": [
    {
     "name": "stderr",
     "output_type": "stream",
     "text": [
      "Downloading: 100%|██████████| 213k/213k [00:00<00:00, 719kB/s] \n",
      "Downloading: 100%|██████████| 29.0/29.0 [00:00<00:00, 53.1kB/s]\n",
      "Downloading: 100%|██████████| 436k/436k [00:00<00:00, 1.34MB/s]\n",
      "Downloading: 100%|██████████| 570/570 [00:00<00:00, 518kB/s]\n",
      "Downloading: 100%|██████████| 433M/433M [00:38<00:00, 11.2MB/s] \n",
      "INFO:absl:Unable to initialize backend 'tpu_driver': NOT_FOUND: Unable to find driver in registry given worker: \n",
      "INFO:absl:Unable to initialize backend 'tpu': INVALID_ARGUMENT: TpuPlatform is not available.\n",
      "Some weights of FlaxBertModel were not initialized from the model checkpoint at bert-base-cased and are newly initialized: {('pooler', 'dense', 'kernel'), ('pooler', 'dense', 'bias')}\n",
      "You should probably TRAIN this model on a down-stream task to be able to use it for predictions and inference.\n"
     ]
    }
   ],
   "source": [
    "# A pretrained Hugging face model that is used for retrieval\n",
    "MODEL_TYPE = 'bert-base-cased'\n",
    "tokenizer = BertTokenizer.from_pretrained(MODEL_TYPE)\n",
    "bert_encoder = FlaxBertModel.from_pretrained(MODEL_TYPE)"
   ]
  },
  {
   "cell_type": "code",
   "execution_count": 5,
   "metadata": {},
   "outputs": [
    {
     "data": {
      "text/plain": [
       "(1, 768)"
      ]
     },
     "execution_count": 5,
     "metadata": {},
     "output_type": "execute_result"
    }
   ],
   "source": [
    "# Try inference of the model\n",
    "inputs = tokenizer(\"Hello, my dog is cute\", return_tensors=\"jax\")\n",
    "outputs = bert_encoder(**inputs)\n",
    "outputs.pooler_output.shape"
   ]
  },
  {
   "cell_type": "code",
   "execution_count": 6,
   "metadata": {},
   "outputs": [
    {
     "data": {
      "text/plain": [
       "<bound method Module.setup of DocumentEncoder(\n",
       "    # attributes\n",
       "    dimensions = [768, 768]\n",
       "    encoder = <transformers.models.bert.modeling_flax_bert.FlaxBertModel object at 0x7f2819d970d0>\n",
       ")>"
      ]
     },
     "execution_count": 6,
     "metadata": {},
     "output_type": "execute_result"
    }
   ],
   "source": [
    "class DocumentEncoder(nn.Module):\n",
    "    dimensions: Sequence[int]\n",
    "    encoder: FlaxBertModel\n",
    "\n",
    "    @nn.compact\n",
    "    def __call__(self, input):\n",
    "        x = self.encoder(**inputs).pooler_output\n",
    "        for i, feat in enumerate(self.dimensions):\n",
    "            x = nn.Dense(feat, name=f'layers_{i}')(x)\n",
    "            if i != len(self.dimensions) - 1:\n",
    "                x = nn.relu(x)\n",
    "        return x\n",
    "\n",
    "model = DocumentEncoder(dimensions=[768,768], encoder=bert_encoder)\n",
    "model.setup"
   ]
  },
  {
   "cell_type": "code",
   "execution_count": 7,
   "metadata": {},
   "outputs": [],
   "source": [
    "# initialize the model parameters\n",
    "params = model.init(random.PRNGKey(0), inputs)\n"
   ]
  },
  {
   "cell_type": "code",
   "execution_count": 8,
   "metadata": {},
   "outputs": [
    {
     "data": {
      "text/plain": [
       "DeviceArray([[-0.339502  ,  0.04324893,  0.01497805, -0.1106118 ,\n",
       "              -0.02616231, -0.02092429,  0.1959936 , -0.08281372,\n",
       "              -0.10037702,  0.06958559,  0.10271952,  0.33911967,\n",
       "              -0.16751911, -0.20067038, -0.12156545, -0.21130961,\n",
       "              -0.20840049, -0.04508215, -0.01584484,  0.21792774,\n",
       "               0.09600234,  0.39484316,  0.45374355,  0.34563643,\n",
       "               0.08924304, -0.12511969,  0.46351454,  0.05140051,\n",
       "              -0.33968008, -0.08923014,  0.00472313,  0.22341625,\n",
       "              -0.17614576,  0.07717435,  0.05756153,  0.20330115,\n",
       "              -0.03640845,  0.0993219 ,  0.01950805,  0.16440971,\n",
       "              -0.22386642,  0.02179825,  0.22025993, -0.02451882,\n",
       "              -0.23692423, -0.39110622, -0.16336583, -0.07466352,\n",
       "               0.5497451 ,  0.12904227,  0.08858231, -0.3262227 ,\n",
       "              -0.08783773, -0.09947726, -0.05356459,  0.20969656,\n",
       "              -0.3642184 , -0.13723704,  0.26316062,  0.1535608 ,\n",
       "              -0.06578528, -0.07990561,  0.05291927, -0.2562328 ,\n",
       "               0.10444606,  0.31863117, -0.12487464,  0.46370322,\n",
       "              -0.16174893,  0.20774645,  0.14755453,  0.23370501,\n",
       "              -0.12513544, -0.33238834,  0.0032002 ,  0.04141682,\n",
       "              -0.35357052,  0.1134396 ,  0.2755895 , -0.21795242,\n",
       "               0.01060842, -0.39922485,  0.09120228,  0.25897408,\n",
       "               0.14556673, -0.3411885 ,  0.0142801 ,  0.27281615,\n",
       "               0.28951052, -0.0415852 , -0.05346024, -0.20328388,\n",
       "              -0.00560548,  0.10269392, -0.09917457,  0.13954628,\n",
       "               0.25858212, -0.30993718,  0.32873058,  0.05068555,\n",
       "               0.00656652,  0.43067414,  0.06867928,  0.07532918,\n",
       "               0.08864541, -0.09556184,  0.12496007, -0.09134227,\n",
       "              -0.42914906,  0.13035458, -0.22058192, -0.24851845,\n",
       "              -0.17101492,  0.2047161 , -0.11246844,  0.23177204,\n",
       "              -0.05565748, -0.22983676,  0.01383202,  0.14803177,\n",
       "              -0.01721723, -0.2739523 ,  0.03531861,  0.45352417,\n",
       "               0.3105458 , -0.07691183,  0.05189242, -0.02232441,\n",
       "               0.05660909, -0.00922711, -0.08247504,  0.08280585,\n",
       "              -0.24910247, -0.09094296, -0.487507  , -0.11931053,\n",
       "               0.09398282,  0.18890142,  0.13831246, -0.19007966,\n",
       "              -0.16761215,  0.2735315 , -0.33431417,  0.00229977,\n",
       "              -0.06713978,  0.03267255,  0.03452687, -0.09837916,\n",
       "              -0.16044843,  0.35532445,  0.03513456,  0.08386616,\n",
       "               0.20452741,  0.13926153, -0.22728162, -0.38417977,\n",
       "              -0.15362099,  0.13612193, -0.1734148 ,  0.13981359,\n",
       "               0.12949143,  0.16600913, -0.41995934,  0.18960077,\n",
       "               0.11639793, -0.13228203,  0.36831546, -0.29725748,\n",
       "              -0.28668946, -0.20129378, -0.11460111, -0.1545805 ,\n",
       "               0.03873152, -0.1907202 , -0.12243432,  0.15964453,\n",
       "              -0.31721324,  0.49159002, -0.23327817, -0.28879642,\n",
       "              -0.25116017,  0.12202345, -0.13245882, -0.03584045,\n",
       "              -0.0666291 , -0.1150386 , -0.17567386,  0.18142036,\n",
       "              -0.19618662, -0.22798482,  0.07177184, -0.12285668,\n",
       "              -0.10987863, -0.33629104, -0.06275339, -0.05090247,\n",
       "               0.44954643,  0.12468565,  0.24559292,  0.43077087,\n",
       "              -0.31743318,  0.21202973, -0.30194402,  0.20664223,\n",
       "               0.60608715, -0.33129698,  0.24856448, -0.11830598,\n",
       "              -0.43981352,  0.05261023,  0.29402822, -0.0242242 ,\n",
       "              -0.35143894,  0.03146683, -0.34788513,  0.4507655 ,\n",
       "              -0.10538864,  0.18707843, -0.16288587, -0.04482343,\n",
       "              -0.28189284,  0.00798167, -0.14137483, -0.15019101,\n",
       "               0.42014202, -0.09085985, -0.00159779,  0.20906997,\n",
       "               0.46711716, -0.14921904, -0.0369223 , -0.30830634,\n",
       "               0.13072254, -0.07684238, -0.05552679,  0.33751696,\n",
       "               0.16796216, -0.10265348, -0.00255822, -0.13903166,\n",
       "               0.25891265,  0.14135413,  0.36150542,  0.17884031,\n",
       "              -0.358865  ,  0.14714655,  0.09464642, -0.12003844,\n",
       "              -0.04389392, -0.42928776,  0.02020236,  0.19533008,\n",
       "              -0.24702813, -0.2673331 ,  0.04949537, -0.2812531 ,\n",
       "               0.30496076, -0.07847945, -0.16623014, -0.18158327,\n",
       "              -0.09239043,  0.16919275, -0.43807247,  0.10497686,\n",
       "              -0.2360726 , -0.09528254,  0.04761416,  0.11788514,\n",
       "               0.1519459 , -0.3217712 ,  0.24316907,  0.01496072,\n",
       "              -0.09321234,  0.05145633, -0.09049532, -0.04329653,\n",
       "              -0.01648649, -0.01560328, -0.25715768,  0.11691521,\n",
       "              -0.06701223,  0.02658546,  0.14509387,  0.03697164,\n",
       "               0.16978817, -0.05345118, -0.08963384, -0.00784251,\n",
       "               0.06609302, -0.14504954,  0.1280448 , -0.15495771,\n",
       "               0.20185122, -0.0420134 , -0.33317742, -0.22677283,\n",
       "              -0.49518198, -0.05388402,  0.27951276, -0.10840239,\n",
       "              -0.06890643,  0.27437672,  0.27012888, -0.25749087,\n",
       "              -0.1018817 ,  0.02473802, -0.2156685 ,  0.26934353,\n",
       "               0.2042032 , -0.2233608 , -0.0463756 ,  0.46784532,\n",
       "              -0.04117574,  0.2178948 ,  0.39225885, -0.03683886,\n",
       "              -0.0621754 ,  0.21069577, -0.02456457, -0.22731066,\n",
       "              -0.47572678, -0.00879626, -0.20891538, -0.10227127,\n",
       "              -0.02595936,  0.62538135, -0.0597898 ,  0.13153256,\n",
       "              -0.04030297,  0.2297262 , -0.11314185,  0.03243316,\n",
       "               0.4297016 ,  0.13275884,  0.1188665 ,  0.34575742,\n",
       "               0.2669205 ,  0.16087061, -0.02814123,  0.02163635,\n",
       "              -0.25612912,  0.22422192,  0.11587611,  0.20241332,\n",
       "               0.38187498, -0.22217546, -0.00689547, -0.19473338,\n",
       "              -0.00667378, -0.09971382, -0.279556  ,  0.10337508,\n",
       "               0.6232412 ,  0.21951616,  0.13420737,  0.06951017,\n",
       "               0.13049674,  0.2227444 , -0.17333835,  0.40865603,\n",
       "               0.0125635 ,  0.23048182,  0.09920233, -0.18443727,\n",
       "               0.14744633,  0.02717484, -0.09357677, -0.20167398,\n",
       "              -0.09991536, -0.09802507, -0.29959843, -0.16284595,\n",
       "              -0.02664363,  0.16865695, -0.09959225,  0.05196181,\n",
       "               0.16472483, -0.1209523 , -0.17663401, -0.00220662,\n",
       "               0.19769783, -0.09054723, -0.09004031, -0.24346215,\n",
       "              -0.01646075,  0.1195368 ,  0.2057871 ,  0.24667259,\n",
       "              -0.24656616,  0.15323807,  0.16262807,  0.17504807,\n",
       "              -0.23880264, -0.15533501, -0.07129399, -0.18576168,\n",
       "              -0.2305938 ,  0.33411914,  0.03037852, -0.04135761,\n",
       "              -0.02571406, -0.34598598,  0.3545192 , -0.13474548,\n",
       "              -0.21676204, -0.14821276, -0.183109  , -0.28836423,\n",
       "              -0.50840616, -0.20034598,  0.04025075,  0.22025615,\n",
       "              -0.53406656,  0.03706761, -0.39258897, -0.07274728,\n",
       "              -0.36219722, -0.32537982, -0.07277955,  0.01578555,\n",
       "              -0.07623353, -0.38311595, -0.3871201 ,  0.01681319,\n",
       "              -0.03870888,  0.3977445 , -0.4820897 ,  0.16820544,\n",
       "              -0.1870957 ,  0.18607858, -0.11903325, -0.23739752,\n",
       "               0.3824708 ,  0.12460991,  0.21532416, -0.04484979,\n",
       "               0.08573643,  0.2625707 , -0.4062413 ,  0.13265643,\n",
       "              -0.02440075, -0.17715622, -0.11766087, -0.12418467,\n",
       "               0.04199705, -0.07110934,  0.13336362, -0.5823543 ,\n",
       "               0.07859439, -0.07233025, -0.09656975, -0.5326636 ,\n",
       "              -0.25491762, -0.17875618, -0.26305008, -0.06131594,\n",
       "              -0.00785679,  0.03288899,  0.1513314 , -0.00671649,\n",
       "              -0.22921126, -0.06852995,  0.15096128,  0.10477567,\n",
       "               0.02819226, -0.04215311, -0.09183588,  0.07356804,\n",
       "              -0.14617527,  0.31971797, -0.08699792,  0.21972147,\n",
       "              -0.07238401,  0.05632719,  0.0760552 ,  0.1719272 ,\n",
       "              -0.00064977,  0.16352874, -0.06425734, -0.08290713,\n",
       "              -0.08000082,  0.1353902 ,  0.5053828 ,  0.14051011,\n",
       "               0.07249205, -0.16621083,  0.07290894,  0.07947684,\n",
       "               0.11238825, -0.00483666, -0.32601345, -0.04930893,\n",
       "               0.14921616, -0.22199349, -0.09760261, -0.3138746 ,\n",
       "              -0.1068775 , -0.18070744,  0.02506825,  0.10637218,\n",
       "              -0.46484613, -0.1974582 ,  0.23742312, -0.0994478 ,\n",
       "              -0.10900672,  0.30603087,  0.12123424, -0.11160491,\n",
       "              -0.15011644,  0.07164235,  0.42712152,  0.10012062,\n",
       "               0.15691027,  0.16331291,  0.10851908,  0.52137226,\n",
       "              -0.08568893, -0.18807039,  0.23676802,  0.07599574,\n",
       "               0.06138415, -0.06053295,  0.26090127,  0.07381213,\n",
       "              -0.12839285,  0.07739106, -0.39657983,  0.3919341 ,\n",
       "              -0.00231304,  0.10985696, -0.25489604,  0.15320064,\n",
       "               0.17835163, -0.4759318 , -0.01156583,  0.07492211,\n",
       "              -0.20580311, -0.16541077,  0.20042592, -0.04141514,\n",
       "              -0.0418467 , -0.16679788, -0.08243163, -0.09671748,\n",
       "              -0.22435464,  0.29285097, -0.06792206,  0.25836056,\n",
       "               0.01400308, -0.24765104, -0.09712428, -0.010021  ,\n",
       "              -0.33184698, -0.11539076, -0.08736253,  0.17435269,\n",
       "              -0.19471547, -0.04833198,  0.24272683,  0.11301951,\n",
       "               0.13767157, -0.44452512,  0.22190541, -0.14177053,\n",
       "               0.00394238,  0.34334832, -0.12394117, -0.2241713 ,\n",
       "              -0.03195214,  0.02386308,  0.12798387,  0.11270301,\n",
       "               0.05975705, -0.13299343,  0.14324306,  0.32161218,\n",
       "               0.24568954, -0.05159998,  0.18186241, -0.1510258 ,\n",
       "               0.03531648, -0.250966  ,  0.00235389,  0.16202487,\n",
       "              -0.28657562,  0.36654165, -0.04848591,  0.30713362,\n",
       "               0.04244548, -0.27769166,  0.01542987, -0.29890674,\n",
       "               0.17451768,  0.01270858, -0.16249683,  0.1387555 ,\n",
       "               0.01719688, -0.09457931, -0.0977095 ,  0.43359345,\n",
       "              -0.27231213,  0.20890258,  0.03402516,  0.1711316 ,\n",
       "              -0.32461742, -0.03190686,  0.09858342, -0.18473482,\n",
       "              -0.12244174, -0.14246759, -0.03581525, -0.28059077,\n",
       "               0.40600646, -0.24126665,  0.07064496,  0.24595562,\n",
       "               0.21735236, -0.20369829, -0.25506753, -0.09907736,\n",
       "              -0.1688683 , -0.15673435,  0.22088319, -0.25540206,\n",
       "               0.2252792 ,  0.0169302 , -0.13935506,  0.05901033,\n",
       "              -0.06504523, -0.01195749,  0.21463282, -0.36851537,\n",
       "              -0.31843823,  0.07725108, -0.15126224,  0.12487761,\n",
       "              -0.24204578, -0.23995167, -0.15684766,  0.11890765,\n",
       "              -0.2416527 ,  0.22362202, -0.12812187, -0.25187153,\n",
       "              -0.4327439 , -0.10779961,  0.44965267,  0.2062246 ,\n",
       "               0.33544353, -0.08273366,  0.08371102, -0.01243266,\n",
       "               0.21244359,  0.09973935, -0.02911198,  0.02758914,\n",
       "               0.0384918 , -0.0037613 , -0.09457032,  0.13349023,\n",
       "               0.15105575, -0.07747305, -0.3345907 ,  0.1289458 ,\n",
       "               0.14054972, -0.03309954, -0.27520174,  0.21278408,\n",
       "               0.05403544, -0.1258028 ,  0.20772633,  0.3368714 ,\n",
       "              -0.3999378 , -0.04383329, -0.13966829,  0.21011701,\n",
       "               0.06366888,  0.17800231, -0.15550373, -0.0363058 ,\n",
       "              -0.07961856, -0.07511187,  0.05903233, -0.20566416,\n",
       "               0.2890103 ,  0.30845132,  0.14199084, -0.35425085,\n",
       "              -0.04037108,  0.28928077,  0.11982265,  0.02272141,\n",
       "              -0.08954287, -0.12531483, -0.01930077, -0.33411014,\n",
       "              -0.09122977,  0.11295101,  0.07838795, -0.05394097,\n",
       "               0.14658865,  0.12183005,  0.06165068, -0.21158153,\n",
       "              -0.13417119, -0.02130371,  0.14684942, -0.21689296,\n",
       "              -0.07597366,  0.3266157 ,  0.2617022 ,  0.21934147,\n",
       "               0.33523422,  0.20762692, -0.12341394,  0.12083095,\n",
       "              -0.16430582, -0.44498134,  0.03144945,  0.41662663,\n",
       "               0.1605064 , -0.142068  , -0.46880814,  0.09122368,\n",
       "               0.34813797,  0.175311  ,  0.03857847,  0.28798717,\n",
       "              -0.00432911, -0.27819544,  0.17539695, -0.02279484,\n",
       "              -0.44797784, -0.07991505, -0.20223582, -0.18531094,\n",
       "              -0.01367961,  0.24246566,  0.48532128, -0.12623976,\n",
       "              -0.05218405,  0.03930924, -0.0622667 , -0.41130093,\n",
       "               0.22774042, -0.10747373, -0.2951355 ,  0.11240169,\n",
       "              -0.35622716,  0.00897352,  0.2772266 , -0.03175985,\n",
       "              -0.25618944, -0.38392472, -0.2613596 , -0.05999076,\n",
       "               0.0806743 , -0.19734949, -0.00899149, -0.3945207 ,\n",
       "               0.14967266, -0.20786007, -0.20238647, -0.18412258,\n",
       "               0.3361126 , -0.17432678, -0.26665482,  0.14201309]],            dtype=float32)"
      ]
     },
     "execution_count": 8,
     "metadata": {},
     "output_type": "execute_result"
    }
   ],
   "source": [
    "model.apply(params, inputs)"
   ]
  },
  {
   "cell_type": "markdown",
   "metadata": {},
   "source": [
    "Preparing Dataset, using wikipedia dataset for training. The retrieval model predicts extracted text from a wikipedia paragraph."
   ]
  },
  {
   "cell_type": "code",
   "execution_count": 9,
   "metadata": {},
   "outputs": [
    {
     "name": "stderr",
     "output_type": "stream",
     "text": [
      "Downloading: 8.33kB [00:00, 2.44MB/s]                   \n",
      "Downloading: 5.83kB [00:00, 8.13MB/s]                   \n"
     ]
    },
    {
     "name": "stdout",
     "output_type": "stream",
     "text": [
      "Downloading and preparing dataset wikitext/wikitext-2-raw-v1 (download: 4.50 MiB, generated: 12.91 MiB, post-processed: Unknown size, total: 17.41 MiB) to /home/max/.cache/huggingface/datasets/wikitext/wikitext-2-raw-v1/1.0.0/aa5e094000ec7afeb74c3be92c88313cd6f132d564c7effd961c10fd47c76f20...\n"
     ]
    },
    {
     "name": "stderr",
     "output_type": "stream",
     "text": [
      "Downloading: 100%|██████████| 4.72M/4.72M [00:00<00:00, 6.36MB/s]\n",
      "                                            "
     ]
    },
    {
     "name": "stdout",
     "output_type": "stream",
     "text": [
      "Dataset wikitext downloaded and prepared to /home/max/.cache/huggingface/datasets/wikitext/wikitext-2-raw-v1/1.0.0/aa5e094000ec7afeb74c3be92c88313cd6f132d564c7effd961c10fd47c76f20. Subsequent calls will reuse this data.\n"
     ]
    },
    {
     "name": "stderr",
     "output_type": "stream",
     "text": [
      "\r"
     ]
    }
   ],
   "source": [
    "from datasets import load_dataset\n",
    "\n",
    "dataset = load_dataset('wikitext', 'wikitext-2-raw-v1', split='train')"
   ]
  },
  {
   "cell_type": "code",
   "execution_count": 10,
   "metadata": {},
   "outputs": [],
   "source": [
    "import random as python_random\n",
    "\n",
    "def extract_random_sentence(example):\n",
    "    \"\"\"Sample one sentence from a paragraph.\"\"\"\n",
    "    sentences = example['text'].split('.')\n",
    "    sentences_len = len(sentences)\n",
    "    if (sentences_len < 2):\n",
    "        return {'paragraph': '', 'sample': ''}\n",
    "    sampled_id = python_random.randint(0, sentences_len-1)\n",
    "    paragraph = ' '.join(sentences[:sampled_id] + sentences[sampled_id+1:])\n",
    "    sampled_sentence = sentences[sampled_id]\n",
    "    if not sampled_sentence.strip() or not paragraph.strip():\n",
    "        return {'paragraph': '', 'sample': ''}\n",
    "\n",
    "    return {'paragraph': paragraph, 'sample': sampled_sentence}\n",
    "\n",
    "def filter_callback(example):\n",
    "    \"\"\"Filters out examples with an empty paragraph.\"\"\"\n",
    "    return len(example['paragraph']) > 0"
   ]
  },
  {
   "cell_type": "code",
   "execution_count": 24,
   "metadata": {},
   "outputs": [],
   "source": [
    "def DatastreamTokenize():\n",
    "    \"\"\"Creates a callback that performs tokenization and also batching\"\"\"\n",
    "    tokenizer = BertTokenizer.from_pretrained(MODEL_TYPE)\n",
    "    def TokenizerCallback(example):\n",
    "        build_tokenized_map = lambda prefix: {prefix+'_'+key: value for key, value in tokenizer(example['paragraph']).items()}\n",
    "        return build_tokenized_map('paragraph') | build_tokenized_map('sample')\n",
    "    return TokenizerCallback"
   ]
  },
  {
   "cell_type": "code",
   "execution_count": 17,
   "metadata": {},
   "outputs": [
    {
     "data": {
      "text/plain": [
       "{'paragraph_input_ids': [[101, 8667, 1291, 102]],\n",
       " 'paragraph_token_type_ids': [[0, 0, 0, 0]],\n",
       " 'paragraph_attention_mask': [[1, 1, 1, 1]],\n",
       " 'sample_input_ids': [[101, 8667, 1291, 102]],\n",
       " 'sample_token_type_ids': [[0, 0, 0, 0]],\n",
       " 'sample_attention_mask': [[1, 1, 1, 1]]}"
      ]
     },
     "execution_count": 17,
     "metadata": {},
     "output_type": "execute_result"
    }
   ],
   "source": [
    "example = extract_random_sentence({'text':'Hello World. Good bye'})\n",
    "\n",
    "DatastreamTokenize()(example)"
   ]
  },
  {
   "cell_type": "code",
   "execution_count": 25,
   "metadata": {},
   "outputs": [
    {
     "name": "stderr",
     "output_type": "stream",
     "text": [
      "WARNING:datasets.arrow_dataset:Loading cached processed dataset at /home/max/.cache/huggingface/datasets/wikitext/wikitext-2-raw-v1/1.0.0/aa5e094000ec7afeb74c3be92c88313cd6f132d564c7effd961c10fd47c76f20/cache-6395f7e0f5f470e6.arrow\n",
      "WARNING:datasets.arrow_dataset:Loading cached processed dataset at /home/max/.cache/huggingface/datasets/wikitext/wikitext-2-raw-v1/1.0.0/aa5e094000ec7afeb74c3be92c88313cd6f132d564c7effd961c10fd47c76f20/cache-14a45c7a9402b69f.arrow\n",
      "  0%|          | 0/13 [00:00<?, ?ba/s]Token indices sequence length is longer than the specified maximum sequence length for this model (624 > 512). Running this sequence through the model will result in indexing errors\n",
      "100%|██████████| 13/13 [00:20<00:00,  1.60s/ba]\n"
     ]
    }
   ],
   "source": [
    "prepared_dataset = dataset.map(extract_random_sentence).remove_columns(('text')).filter(filter_callback).map(DatastreamTokenize(), batched=True)"
   ]
  },
  {
   "cell_type": "markdown",
   "metadata": {},
   "source": [
    "## Training Model"
   ]
  },
  {
   "cell_type": "code",
   "execution_count": null,
   "metadata": {},
   "outputs": [],
   "source": []
  }
 ],
 "metadata": {
  "interpreter": {
   "hash": "cb946ab6d564da0bdba9ddd165544fac8a130888ddc3a3ba6dd5d5eb44c22d78"
  },
  "kernelspec": {
   "display_name": "Python 3.8.8 64-bit ('.venv': venv)",
   "language": "python",
   "name": "python3"
  },
  "language_info": {
   "codemirror_mode": {
    "name": "ipython",
    "version": 3
   },
   "file_extension": ".py",
   "mimetype": "text/x-python",
   "name": "python",
   "nbconvert_exporter": "python",
   "pygments_lexer": "ipython3",
   "version": "3.9.5"
  },
  "orig_nbformat": 4
 },
 "nbformat": 4,
 "nbformat_minor": 2
}
